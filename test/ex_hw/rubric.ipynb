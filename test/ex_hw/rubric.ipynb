{
 "cells": [
  {
   "cell_type": "code",
   "execution_count": 1,
   "id": "5b5d351e",
   "metadata": {},
   "outputs": [],
   "source": [
    "# complete the function below\n",
    "def add_all_even_idx(x):\n",
    "    \"\"\" adds all even indexed items in x\n",
    "\n",
    "    Args:\n",
    "        x (list): a list of values which can be summed\n",
    "\n",
    "    Returns:\n",
    "        x_even_sum: sum\n",
    "    \"\"\"\n",
    "\n",
    "    # ! snip-start: student\n",
    "    x_even = x[::2]\n",
    "    return sum(x_even)\n",
    "    # ! snip-end:"
   ]
  },
  {
   "cell_type": "markdown",
   "id": "97a3ad9b",
   "metadata": {},
   "source": [
    "#! snip-start: student, solution\n",
    "\n",
    "(notice: because this cell is empty, except for whitespace in the student & solution copies, it will be removed entirely)\n",
    "\n",
    "## rubric notes\n",
    "- 100 pts for documentation\n",
    "- 1 pts for function which works"
   ]
  },
  {
   "cell_type": "code",
   "execution_count": 3,
   "id": "86f3c48f",
   "metadata": {},
   "outputs": [],
   "source": [
    "# another code cell"
   ]
  },
  {
   "cell_type": "markdown",
   "id": "4f2b52e3",
   "metadata": {},
   "source": [
    "Another markdown cell"
   ]
  }
 ],
 "metadata": {
  "kernelspec": {
   "display_name": "Python 3 (ipykernel)",
   "language": "python",
   "name": "python3"
  },
  "language_info": {
   "codemirror_mode": {
    "name": "ipython",
    "version": 3
   },
   "file_extension": ".py",
   "mimetype": "text/x-python",
   "name": "python",
   "nbconvert_exporter": "python",
   "pygments_lexer": "ipython3",
   "version": "3.10.6"
  }
 },
 "nbformat": 4,
 "nbformat_minor": 5
}
