{
 "cells": [
  {
   "cell_type": "code",
   "execution_count": 1,
   "id": "465426b2",
   "metadata": {},
   "outputs": [],
   "source": [
    "# complete the function below\n",
    "def add_all_even_idx(x):\n",
    "    \"\"\" adds all even indexed items in x\n",
    "\n",
    "    Args:\n",
    "        x (list): a list of values which can be summed\n",
    "\n",
    "    Returns:\n",
    "        x_even_sum: sum\n",
    "    \"\"\"\n",
    "\n",
    "    x_even = x[::2]\n",
    "    return sum(x_even)"
   ]
  },
  {
   "cell_type": "code",
   "execution_count": 3,
   "id": "d24ea59b",
   "metadata": {},
   "outputs": [],
   "source": [
    "# another code cell"
   ]
  },
  {
   "cell_type": "markdown",
   "id": "254633cc",
   "metadata": {},
   "source": [
    "Another markdown cell"
   ]
  }
 ],
 "metadata": {
  "kernelspec": {
   "display_name": "Python 3 (ipykernel)",
   "language": "python",
   "name": "python3"
  },
  "language_info": {
   "codemirror_mode": {
    "name": "ipython",
    "version": 3
   },
   "file_extension": ".py",
   "mimetype": "text/x-python",
   "name": "python",
   "nbconvert_exporter": "python",
   "pygments_lexer": "ipython3",
   "version": "3.10.6"
  }
 },
 "nbformat": 4,
 "nbformat_minor": 5
}
