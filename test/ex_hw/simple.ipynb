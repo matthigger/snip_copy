{
 "cells": [
  {
   "cell_type": "code",
   "execution_count": 1,
   "id": "00982551",
   "metadata": {},
   "outputs": [],
   "source": [
    "# simple ipynb"
   ]
  },
  {
   "cell_type": "markdown",
   "id": "58b37e8d",
   "metadata": {},
   "source": [
    "For testing the IPYNB object"
   ]
  }
 ],
 "metadata": {
  "kernelspec": {
   "display_name": "Python 3 (ipykernel)",
   "language": "python",
   "name": "python3"
  },
  "language_info": {
   "codemirror_mode": {
    "name": "ipython",
    "version": 3
   },
   "file_extension": ".py",
   "mimetype": "text/x-python",
   "name": "python",
   "nbconvert_exporter": "python",
   "pygments_lexer": "ipython3",
   "version": "3.10.6"
  }
 },
 "nbformat": 4,
 "nbformat_minor": 5
}
